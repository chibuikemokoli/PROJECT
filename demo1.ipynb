{
 "cells": [
  {
   "cell_type": "code",
   "execution_count": 5,
   "metadata": {},
   "outputs": [
    {
     "data": {
      "text/plain": [
       "'C:/Users/User/Desktop/15-34/assets/enlarged_test.png'"
      ]
     },
     "execution_count": 5,
     "metadata": {},
     "output_type": "execute_result"
    }
   ],
   "source": [
    "from PIL import Image\n",
    "\n",
    "# Load the image\n",
    "img_path = 'C:/Users/User/Desktop/15-34/assets/test.png'\n",
    "img = Image.open(img_path)\n",
    "\n",
    "# Enlarge the image by 2x\n",
    "new_size = (img.width * 2, img.height * 2)\n",
    "enlarged_img = img.resize(new_size)\n",
    "\n",
    "# Save the enlarged image\n",
    "enlarged_img_path = 'C:/Users/User/Desktop/15-34/assets/enlarged_test.png'\n",
    "enlarged_img.save(enlarged_img_path)\n",
    "\n",
    "enlarged_img_path"
   ]
  }
 ],
 "metadata": {
  "kernelspec": {
   "display_name": "Python 3 (ipykernel)",
   "language": "python",
   "name": "python3"
  },
  "language_info": {
   "codemirror_mode": {
    "name": "ipython",
    "version": 3
   },
   "file_extension": ".py",
   "mimetype": "text/x-python",
   "name": "python",
   "nbconvert_exporter": "python",
   "pygments_lexer": "ipython3",
   "version": "3.11.9"
  }
 },
 "nbformat": 4,
 "nbformat_minor": 4
}
